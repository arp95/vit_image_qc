{
 "cells": [
  {
   "cell_type": "code",
   "execution_count": 1,
   "metadata": {},
   "outputs": [
    {
     "name": "stdout",
     "output_type": "stream",
     "text": [
      "Header files loaded!\n"
     ]
    }
   ],
   "source": [
    "# header files\n",
    "%matplotlib inline\n",
    "import torch\n",
    "import numpy as np\n",
    "import csv\n",
    "import glob\n",
    "import math\n",
    "import tensorboard\n",
    "from PIL import Image\n",
    "import skimage\n",
    "from skimage import io, transform\n",
    "import matplotlib.pyplot as plt\n",
    "\n",
    "plt.rcParams['figure.figsize'] = [15, 15]\n",
    "print(\"Header files loaded!\")"
   ]
  },
  {
   "cell_type": "markdown",
   "metadata": {},
   "source": [
    "### Analysis on Test Dataset\n",
    "This notebook is used for checking the performance of the three models (Transformer, Baseline Deep Learning and Baseline CPA) on the test dataset. First step was running the models on the test dataset and generating the csvs, namely, test_transformer.csv, test_baseline.csv and test_baseline_cpa.csv which contain the predictions for each image of the test dataset. Then in this notebook, we analyse these files and go through the predictions from each model on this test dataset."
   ]
  },
  {
   "cell_type": "markdown",
   "metadata": {},
   "source": [
    "### Transformer Model\n",
    "The following display the performance of the transformer model on the test dataset. We see that the transformer model gives a total of 12643 bad images (blurry, empty and debris). Then we display the probabilities (max and min) for each of the blurry, empty and debris class."
   ]
  },
  {
   "cell_type": "code",
   "execution_count": 2,
   "metadata": {},
   "outputs": [
    {
     "name": "stdout",
     "output_type": "stream",
     "text": [
      "['../results/test_dataset/test_transformer.csv']\n",
      "12643\n",
      "702\n",
      "597\n",
      "11344\n"
     ]
    }
   ],
   "source": [
    "# read csv files and obtain frequency for each class\n",
    "files = glob.glob(\"../results/test_dataset/test_transformer.csv\")\n",
    "print(files)\n",
    "\n",
    "file_list = []\n",
    "prob_good_list = []\n",
    "prob_blurry_list = []\n",
    "prob_empty_list = []\n",
    "prob_debris_list = []\n",
    "file_label_list = []\n",
    "t_prob_bad_list = []\n",
    "\n",
    "\n",
    "for file in files:\n",
    "    flag = -1\n",
    "    \n",
    "    with open(file, newline='') as csvfile:\n",
    "        spamreader = csv.reader(csvfile)\n",
    "        for row in spamreader:\n",
    "            if flag == -1:\n",
    "                flag = 1\n",
    "            else:\n",
    "                array = row\n",
    "                \n",
    "                # if bad class\n",
    "                if int(array[5]) == 1 or int(array[5]) == 2 or int(array[5]) == 3:\n",
    "                    file_list.append(array[0])\n",
    "                    prob_good_list.append(array[1])\n",
    "                    file_label_list.append(array[5])\n",
    "                    \n",
    "                    if int(array[5]) == 1:\n",
    "                        prob_blurry_list.append((float(array[2]), array[0]))\n",
    "                        t_prob_bad_list.append((float(array[2]), array[0], \"1\"))\n",
    "                    if int(array[5]) == 2:\n",
    "                        prob_empty_list.append((float(array[3]), array[0]))\n",
    "                        t_prob_bad_list.append((float(array[3]), array[0], \"2\"))\n",
    "                    if int(array[5]) == 3:\n",
    "                        prob_debris_list.append((float(array[4]), array[0]))\n",
    "                        t_prob_bad_list.append((float(array[4]), array[0], \"3\"))\n",
    "                        \n",
    "\n",
    "print(len(t_prob_bad_list))\n",
    "print(len(prob_blurry_list))\n",
    "print(len(prob_empty_list))\n",
    "print(len(prob_debris_list))"
   ]
  },
  {
   "cell_type": "code",
   "execution_count": 3,
   "metadata": {},
   "outputs": [
    {
     "name": "stdout",
     "output_type": "stream",
     "text": [
      "(0.998, '/dgx1nas1/cellpainting-datasets/2019_07_11_JUMP_CP_pilots/2021_03_03_Stain5_CondC_PE_Standard/images/BR00120275__2021-02-20T14_16_02-Measurement1/Images/r14c21f03p01-ch2sk1fk1fl1.tiff')\n",
      "(0.338, '/dgx1nas1/cellpainting-datasets/2019_07_11_JUMP_CP_pilots/2021_03_03_Stain5_CondC_PE_Standard/images/BR00120276__2021-02-20T10_34_48-Measurement1/Images/r10c17f02p01-ch2sk1fk1fl1.tiff')\n",
      "702\n"
     ]
    }
   ],
   "source": [
    "prob_blurry_list = sorted(prob_blurry_list, key = lambda x: float(x[0]), reverse=True)\n",
    "print(prob_blurry_list[0])\n",
    "print(prob_blurry_list[len(prob_blurry_list)-1])\n",
    "print(len(prob_blurry_list))"
   ]
  },
  {
   "cell_type": "code",
   "execution_count": 4,
   "metadata": {},
   "outputs": [
    {
     "name": "stdout",
     "output_type": "stream",
     "text": [
      "(1.0, '/dgx1nas1/cellpainting-datasets/2019_07_11_JUMP_CP_pilots/2021_03_03_Stain5_CondC_PE_Standard/images/BR00120275__2021-02-20T14_16_02-Measurement1/Images/r08c04f05p01-ch5sk1fk1fl1.tiff')\n",
      "(0.355, '/dgx1nas1/cellpainting-datasets/2019_07_11_JUMP_CP_pilots/2021_03_03_Stain5_CondC_PE_Standard/images/BR00120274__2021-02-20T17_58_18-Measurement1/Images/r14c21f08p01-ch2sk1fk1fl1.tiff')\n",
      "597\n"
     ]
    }
   ],
   "source": [
    "prob_empty_list = sorted(prob_empty_list, key = lambda x: float(x[0]), reverse=True)\n",
    "print(prob_empty_list[0])\n",
    "print(prob_empty_list[len(prob_empty_list)-1])\n",
    "print(len(prob_empty_list))"
   ]
  },
  {
   "cell_type": "code",
   "execution_count": 5,
   "metadata": {},
   "outputs": [
    {
     "name": "stdout",
     "output_type": "stream",
     "text": [
      "(0.999, '/dgx1nas1/cellpainting-datasets/2019_07_11_JUMP_CP_pilots/2021_03_03_Stain5_CondC_PE_Standard/images/BR00120275__2021-02-20T14_16_02-Measurement1/Images/r04c19f04p01-ch3sk1fk1fl1.tiff')\n",
      "(0.349, '/dgx1nas1/cellpainting-datasets/2019_07_11_JUMP_CP_pilots/2021_03_03_Stain5_CondC_PE_Standard/images/BR00120274__2021-02-20T17_58_18-Measurement1/Images/r08c21f08p01-ch1sk1fk1fl1.tiff')\n",
      "11344\n"
     ]
    }
   ],
   "source": [
    "prob_debris_list = sorted(prob_debris_list, key = lambda x: float(x[0]), reverse=True)\n",
    "print(prob_debris_list[0])\n",
    "print(prob_debris_list[len(prob_debris_list)-1])\n",
    "print(len(prob_debris_list))"
   ]
  },
  {
   "cell_type": "code",
   "execution_count": null,
   "metadata": {},
   "outputs": [],
   "source": []
  },
  {
   "cell_type": "code",
   "execution_count": null,
   "metadata": {},
   "outputs": [],
   "source": []
  },
  {
   "cell_type": "markdown",
   "metadata": {},
   "source": [
    "### Baseline - Deep Learning Model\n",
    "The following display the performance of the baseline (deep learning) model on the test dataset. We see that the baseline model gives a total of 30593 bad images (blurry, empty and debris). Then we display the probabilities (max and min) for each of the blurry, empty and debris class."
   ]
  },
  {
   "cell_type": "code",
   "execution_count": 6,
   "metadata": {},
   "outputs": [
    {
     "name": "stdout",
     "output_type": "stream",
     "text": [
      "['../results/test_dataset/test_baseline.csv']\n",
      "30593\n",
      "7280\n",
      "486\n",
      "22827\n",
      "Done processing!\n"
     ]
    }
   ],
   "source": [
    "# read csv files and obtain frequency for each class\n",
    "k = 150\n",
    "files = glob.glob(\"../results/test_dataset/test_baseline.csv\")\n",
    "print(files)\n",
    "\n",
    "b_file_list = []\n",
    "b_prob_good_list = []\n",
    "b_prob_blurry_list = []\n",
    "b_prob_empty_list = []\n",
    "b_prob_debris_list = []\n",
    "file_label_list = []\n",
    "c_prob_bad_list = []\n",
    "\n",
    "\n",
    "for file in files:\n",
    "    flag = -1\n",
    "    \n",
    "    with open(file, newline='') as csvfile:\n",
    "        spamreader = csv.reader(csvfile)\n",
    "        for row in spamreader:\n",
    "            if flag == -1:\n",
    "                flag = 1\n",
    "            else:\n",
    "                array = row\n",
    "                \n",
    "                #array[0] = array[0].replace(\"2019_07_11_JUMP-CP-pilots\", \"2019_07_11_JUMP_CP_pilots\")\n",
    "                #array[0] = array[0][:len(array[0])-1]\n",
    "                \n",
    "                # if bad class\n",
    "                if int(array[5]) == 1 or int(array[5]) == 2 or int(array[5]) == 3:\n",
    "                    b_file_list.append(array[0])\n",
    "                    b_prob_good_list.append(array[1])\n",
    "                    file_label_list.append(array[5])\n",
    "                    \n",
    "                    if int(array[5]) == 1:\n",
    "                        b_prob_blurry_list.append((float(array[2]), array[0]))\n",
    "                        c_prob_bad_list.append((float(array[2]), array[0], \"1\"))\n",
    "                    if int(array[5]) == 2:\n",
    "                        b_prob_empty_list.append((float(array[3]), array[0]))\n",
    "                        c_prob_bad_list.append((float(array[3]), array[0], \"2\"))\n",
    "                    if int(array[5]) == 3:\n",
    "                        b_prob_debris_list.append((float(array[4]), array[0]))\n",
    "                        c_prob_bad_list.append((float(array[4]), array[0], \"3\"))\n",
    "                        \n",
    "\n",
    "print(len(c_prob_bad_list))\n",
    "print(len(b_prob_blurry_list))\n",
    "print(len(b_prob_empty_list))\n",
    "print(len(b_prob_debris_list))\n",
    "print(\"Done processing!\")"
   ]
  },
  {
   "cell_type": "code",
   "execution_count": 7,
   "metadata": {},
   "outputs": [
    {
     "name": "stdout",
     "output_type": "stream",
     "text": [
      "(0.98, '/dgx1nas1/cellpainting-datasets/2019_07_11_JUMP_CP_pilots/2021_03_03_Stain5_CondC_PE_Standard/images/BR00120276__2021-02-20T10_34_48-Measurement1/Images/r13c12f02p01-ch2sk1fk1fl1.tiff')\n",
      "(0.337, '/dgx1nas1/cellpainting-datasets/2019_07_11_JUMP_CP_pilots/2021_03_03_Stain5_CondC_PE_Standard/images/BR00120276__2021-02-20T10_34_48-Measurement1/Images/r01c08f07p01-ch1sk1fk1fl1.tiff')\n",
      "7280\n"
     ]
    }
   ],
   "source": [
    "b_prob_blurry_list = sorted(b_prob_blurry_list, key = lambda x: float(x[0]), reverse=True)\n",
    "print(b_prob_blurry_list[0])\n",
    "print(b_prob_blurry_list[len(b_prob_blurry_list)-1])\n",
    "print(len(b_prob_blurry_list))"
   ]
  },
  {
   "cell_type": "code",
   "execution_count": 8,
   "metadata": {},
   "outputs": [
    {
     "name": "stdout",
     "output_type": "stream",
     "text": [
      "(0.996, '/dgx1nas1/cellpainting-datasets/2019_07_11_JUMP_CP_pilots/2021_03_03_Stain5_CondC_PE_Standard/images/BR00120274__2021-02-20T17_58_18-Measurement1/Images/r08c04f07p01-ch5sk1fk1fl1.tiff')\n",
      "(0.345, '/dgx1nas1/cellpainting-datasets/2019_07_11_JUMP_CP_pilots/2021_03_03_Stain5_CondC_PE_Standard/images/BR00120277__2021-02-20T07_02_46-Measurement1/Images/r16c19f01p01-ch1sk1fk1fl1.tiff')\n",
      "486\n"
     ]
    }
   ],
   "source": [
    "b_prob_empty_list = sorted(b_prob_empty_list, key = lambda x: float(x[0]), reverse=True)\n",
    "print(b_prob_empty_list[0])\n",
    "print(b_prob_empty_list[len(b_prob_empty_list)-1])\n",
    "print(len(b_prob_empty_list))"
   ]
  },
  {
   "cell_type": "code",
   "execution_count": 9,
   "metadata": {},
   "outputs": [
    {
     "name": "stdout",
     "output_type": "stream",
     "text": [
      "(0.981, '/dgx1nas1/cellpainting-datasets/2019_07_11_JUMP_CP_pilots/2021_03_03_Stain5_CondC_PE_Standard/images/BR00120267__2021-02-20T21_37_27-Measurement1/Images/r15c19f08p01-ch5sk1fk1fl1.tiff')\n",
      "(0.336, '/dgx1nas1/cellpainting-datasets/2019_07_11_JUMP_CP_pilots/2021_03_03_Stain5_CondC_PE_Standard/images/BR00120275__2021-02-20T14_16_02-Measurement1/Images/r16c21f04p01-ch1sk1fk1fl1.tiff')\n",
      "22827\n"
     ]
    }
   ],
   "source": [
    "b_prob_debris_list = sorted(b_prob_debris_list, key = lambda x: float(x[0]), reverse=True)\n",
    "print(b_prob_debris_list[0])\n",
    "print(b_prob_debris_list[len(b_prob_debris_list)-1])\n",
    "print(len(b_prob_debris_list))"
   ]
  },
  {
   "cell_type": "code",
   "execution_count": null,
   "metadata": {},
   "outputs": [],
   "source": []
  },
  {
   "cell_type": "code",
   "execution_count": null,
   "metadata": {},
   "outputs": [],
   "source": []
  },
  {
   "cell_type": "markdown",
   "metadata": {},
   "source": [
    "### Baseline - CPA Model\n",
    "The following display the performance of the baseline (cpa) model on the test dataset. We see that the cpa model gives a total of 30548 bad images (blurry, empty and debris). Then we display the probabilities (max and min) for each of the blurry, empty and debris class."
   ]
  },
  {
   "cell_type": "code",
   "execution_count": 10,
   "metadata": {},
   "outputs": [
    {
     "name": "stdout",
     "output_type": "stream",
     "text": [
      "['../results/test_dataset/test_baseline_cpa.csv']\n",
      "30548\n",
      "0\n",
      "56\n",
      "30492\n",
      "Done processing!\n"
     ]
    }
   ],
   "source": [
    "# read csv files and obtain frequency for each class\n",
    "k = 150\n",
    "files = glob.glob(\"../results/test_dataset/test_baseline_cpa.csv\")\n",
    "print(files)\n",
    "\n",
    "b_file_list = []\n",
    "b_prob_good_list = []\n",
    "b_prob_blurry_list = []\n",
    "b_prob_empty_list = []\n",
    "b_prob_debris_list = []\n",
    "file_label_list = []\n",
    "b_prob_bad_list = []\n",
    "\n",
    "\n",
    "for file in files:\n",
    "    flag = -1\n",
    "    \n",
    "    with open(file, newline='') as csvfile:\n",
    "        spamreader = csv.reader(csvfile)\n",
    "        for row in spamreader:\n",
    "            if flag == -1:\n",
    "                flag = 1\n",
    "            else:\n",
    "                array = row\n",
    "                \n",
    "                array[0] = array[0].replace(\"2019_07_11_JUMP-CP-pilots\", \"2019_07_11_JUMP_CP_pilots\")\n",
    "                array[0] = array[0][:len(array[0])-1]\n",
    "                \n",
    "                # if bad class\n",
    "                if int(array[5]) == 1 or int(array[5]) == 2 or int(array[5]) == 3:\n",
    "                    b_file_list.append(array[0])\n",
    "                    b_prob_good_list.append(array[1])\n",
    "                    file_label_list.append(array[5])\n",
    "                    \n",
    "                    if int(array[5]) == 1:\n",
    "                        b_prob_blurry_list.append((float(array[2]), array[0]))\n",
    "                        b_prob_bad_list.append((float(array[2]), array[0], \"1\"))\n",
    "                    if int(array[5]) == 2:\n",
    "                        b_prob_empty_list.append((float(array[3]), array[0]))\n",
    "                        b_prob_bad_list.append((float(array[3]), array[0], \"2\"))\n",
    "                    if int(array[5]) == 3:\n",
    "                        b_prob_debris_list.append((float(array[4]), array[0]))\n",
    "                        b_prob_bad_list.append((float(array[4]), array[0], \"3\"))\n",
    "                        \n",
    "\n",
    "print(len(b_prob_bad_list))\n",
    "print(len(b_prob_blurry_list))\n",
    "print(len(b_prob_empty_list))\n",
    "print(len(b_prob_debris_list))\n",
    "print(\"Done processing!\")"
   ]
  },
  {
   "cell_type": "code",
   "execution_count": 11,
   "metadata": {},
   "outputs": [
    {
     "name": "stdout",
     "output_type": "stream",
     "text": [
      "(1.0, '/dgx1nas1/cellpainting-datasets/2019_07_11_JUMP_CP_pilots/2021_03_03_Stain5_CondC_PE_Standard/images/BR00120274__2021-02-20T17_58_18-Measurement1/Images/r01c17f03p01-ch4sk1fk1fl1.tif', '3')\n",
      "(0.33, '/dgx1nas1/cellpainting-datasets/2019_07_11_JUMP_CP_pilots/2021_03_03_Stain5_CondC_PE_Standard/images/BR00120267__2021-02-20T21_37_27-Measurement1/Images/r16c17f05p01-ch2sk1fk1fl1.tif', '3')\n",
      "30548\n"
     ]
    }
   ],
   "source": [
    "b_prob_bad_list = sorted(b_prob_bad_list, key = lambda x: float(x[0]), reverse=True)\n",
    "print(b_prob_bad_list[0])\n",
    "print(b_prob_bad_list[len(b_prob_bad_list)-1])\n",
    "print(len(b_prob_bad_list))"
   ]
  },
  {
   "cell_type": "code",
   "execution_count": 12,
   "metadata": {},
   "outputs": [
    {
     "name": "stdout",
     "output_type": "stream",
     "text": [
      "12643\n",
      "150\n",
      "150\n"
     ]
    }
   ],
   "source": [
    "transformer_bad = t_prob_bad_list\n",
    "baseline_bad = b_prob_bad_list[:150]\n",
    "cpa_bad = c_prob_bad_list[:150]\n",
    "print(len(transformer_bad))\n",
    "print(len(baseline_bad))\n",
    "print(len(cpa_bad))"
   ]
  },
  {
   "cell_type": "code",
   "execution_count": null,
   "metadata": {},
   "outputs": [],
   "source": []
  },
  {
   "cell_type": "code",
   "execution_count": null,
   "metadata": {},
   "outputs": [],
   "source": []
  }
 ],
 "metadata": {
  "kernelspec": {
   "display_name": "Python 3",
   "language": "python",
   "name": "python3"
  },
  "language_info": {
   "codemirror_mode": {
    "name": "ipython",
    "version": 3
   },
   "file_extension": ".py",
   "mimetype": "text/x-python",
   "name": "python",
   "nbconvert_exporter": "python",
   "pygments_lexer": "ipython3",
   "version": "3.7.3"
  }
 },
 "nbformat": 4,
 "nbformat_minor": 4
}
