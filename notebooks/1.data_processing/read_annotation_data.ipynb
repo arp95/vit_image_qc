{
 "cells": [
  {
   "cell_type": "code",
   "execution_count": 1,
   "metadata": {},
   "outputs": [
    {
     "name": "stdout",
     "output_type": "stream",
     "text": [
      "Header files loaded!\n"
     ]
    }
   ],
   "source": [
    "# header files\n",
    "%matplotlib inline\n",
    "import os\n",
    "import torch\n",
    "import numpy as np\n",
    "import csv\n",
    "import glob\n",
    "import math\n",
    "import tensorboard\n",
    "from PIL import Image\n",
    "import skimage\n",
    "from skimage import io, transform\n",
    "import matplotlib.pyplot as plt\n",
    "import pandas as pd\n",
    "\n",
    "plt.rcParams['figure.figsize'] = [15, 15]\n",
    "print(\"Header files loaded!\")"
   ]
  },
  {
   "cell_type": "markdown",
   "metadata": {},
   "source": [
    "### Annotation File\n",
    "The qc_features_annotations_full.parquet file consists of all the annotations plus the cpa features for all the images from Broad as well as from different partners. First step was converting the .parquet file to .csv file and then doing some analysis on the file."
   ]
  },
  {
   "cell_type": "code",
   "execution_count": 2,
   "metadata": {},
   "outputs": [],
   "source": [
    "df = pd.read_parquet('../data/qc_features_annotations_full.parquet')\n",
    "df.to_csv('../data/qc_features_annotations_full.csv')"
   ]
  },
  {
   "cell_type": "code",
   "execution_count": 2,
   "metadata": {},
   "outputs": [
    {
     "name": "stdout",
     "output_type": "stream",
     "text": [
      "['', 'Class', 'Metadata_Partner', 'Metadata_Source', 'Metadata_Plate', 'Metadata_Well', 'Metadata_Site', 'Metadata_Channel', 'Metadata_FileLocation', 'ImageQuality_Correlation_10', 'ImageQuality_Correlation_20', 'ImageQuality_Correlation_5', 'ImageQuality_Correlation_50', 'ImageQuality_FocusScore', 'ImageQuality_LocalFocusScore_10', 'ImageQuality_LocalFocusScore_20', 'ImageQuality_LocalFocusScore_5', 'ImageQuality_LocalFocusScore_50', 'ImageQuality_MADIntensity', 'ImageQuality_MaxIntensity', 'ImageQuality_MeanIntensity', 'ImageQuality_MedianIntensity', 'ImageQuality_MinIntensity', 'ImageQuality_PercentMaximal', 'ImageQuality_PercentMinimal', 'ImageQuality_PowerLogLogSlope', 'ImageQuality_Scaling', 'ImageQuality_StdIntensity', 'ImageQuality_TotalArea', 'ImageQuality_TotalIntensity']\n",
      "18131\n"
     ]
    }
   ],
   "source": [
    "files = []\n",
    "classes = []\n",
    "sources = [] \n",
    "flag = -1\n",
    "with open(\"../data/qc_features_annotations_full.csv\", newline='') as csvfile:\n",
    "    spamreader = csv.reader(csvfile)\n",
    "    for row in spamreader:\n",
    "        if flag == -1:\n",
    "            array = row\n",
    "            flag = 1\n",
    "            print(array)\n",
    "        else:\n",
    "            array = row\n",
    "            image = array[8]\n",
    "            cla = array[1]\n",
    "            partner = array[2]\n",
    "            source = array[3]\n",
    "            plate = array[4]\n",
    "            \n",
    "            if \"Broad\" in partner and \"Debris\" in cla and \"cpa\" in source:\n",
    "                files.append(image)\n",
    "                classes.append(cla)\n",
    "\n",
    "print(len(files))"
   ]
  },
  {
   "cell_type": "code",
   "execution_count": 3,
   "metadata": {},
   "outputs": [
    {
     "name": "stdout",
     "output_type": "stream",
     "text": [
      "18131\n",
      "18131\n"
     ]
    }
   ],
   "source": [
    "print(len(files))\n",
    "print(len(classes))"
   ]
  },
  {
   "cell_type": "code",
   "execution_count": 4,
   "metadata": {},
   "outputs": [
    {
     "name": "stdout",
     "output_type": "stream",
     "text": [
      "18131\n"
     ]
    }
   ],
   "source": [
    "files = list(set(files))\n",
    "print(len(files))"
   ]
  },
  {
   "cell_type": "code",
   "execution_count": 5,
   "metadata": {},
   "outputs": [
    {
     "name": "stdout",
     "output_type": "stream",
     "text": [
      "0\n"
     ]
    }
   ],
   "source": [
    "count = 0\n",
    "for file in files:\n",
    "    file = \"/dgx1nas1/cellpainting-datasets/2019_07_11_JUMP_CP_pilots/\" + file\n",
    "    file = file.replace(\"%20\", \" \")\n",
    "    if not os.path.exists(file):\n",
    "        count += 1\n",
    "        #print(file)\n",
    "print(count)"
   ]
  },
  {
   "cell_type": "code",
   "execution_count": null,
   "metadata": {},
   "outputs": [],
   "source": []
  }
 ],
 "metadata": {
  "kernelspec": {
   "display_name": "Python 3",
   "language": "python",
   "name": "python3"
  },
  "language_info": {
   "codemirror_mode": {
    "name": "ipython",
    "version": 3
   },
   "file_extension": ".py",
   "mimetype": "text/x-python",
   "name": "python",
   "nbconvert_exporter": "python",
   "pygments_lexer": "ipython3",
   "version": "3.7.3"
  }
 },
 "nbformat": 4,
 "nbformat_minor": 4
}
